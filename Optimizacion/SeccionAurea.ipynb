{
  "cells": [
    {
      "cell_type": "markdown",
      "metadata": {
        "id": "view-in-github",
        "colab_type": "text"
      },
      "source": [
        "<a href=\"https://colab.research.google.com/github/seismomat/TemasSelectos/blob/main/Optimizacion/SeccionAurea.ipynb\" target=\"_parent\"><img src=\"https://colab.research.google.com/assets/colab-badge.svg\" alt=\"Open In Colab\"/></a>"
      ]
    },
    {
      "cell_type": "code",
      "execution_count": 1,
      "id": "88ef6d2e",
      "metadata": {
        "id": "88ef6d2e"
      },
      "outputs": [],
      "source": [
        "import matplotlib.pyplot as plt\n",
        "import numpy as np\n",
        "from IPython.display import clear_output\n",
        "from time import sleep"
      ]
    },
    {
      "cell_type": "code",
      "execution_count": 2,
      "id": "c3e67da4",
      "metadata": {
        "id": "c3e67da4"
      },
      "outputs": [],
      "source": [
        "x=np.linspace(-1,1,20)\n",
        "f=lambda x:0.5-x*np.exp(-x**2)\n",
        "y=f(x)"
      ]
    },
    {
      "cell_type": "code",
      "execution_count": 3,
      "id": "cb9b7b74",
      "metadata": {
        "id": "cb9b7b74"
      },
      "outputs": [],
      "source": [
        "def Aurea(a,b,f):\n",
        "    TOL=1E-4;\n",
        "    tau=round((np.sqrt(5)-1)/2,3);\n",
        "    OneMtau=round(1-tau,3);\n",
        "    \n",
        "    x1=a+OneMtau*(b-a);\n",
        "    f_x1=f(x1);\n",
        "    x2=a+tau*(b-a);\n",
        "    f_x2=f(x2);\n",
        "    \n",
        "    while (b-a)> TOL:\n",
        "        sleep(1)\n",
        "        clear_output(wait=True)\n",
        "        plt.plot(x,y)\n",
        "        plt.plot(x1,0,marker=\"o\",markersize=10,color=\"red\",label=\"x1\")\n",
        "        plt.plot(x2,0,marker=\"o\",markersize=10,color=\"purple\",label=\"x2\")\n",
        "        plt.plot(x1,f_x1,marker=\"o\",markersize=10,color=\"black\",label=\"f(x1)\")\n",
        "        plt.plot(x2,f_x2,marker=\"o\",markersize=10,color=\"brown\",label=\"f(x2)\")\n",
        "        plt.legend()\n",
        "        plt.show()\n",
        "        if f_x2> f_x1:\n",
        "            b=x2;\n",
        "            x2=np.copy(x1);\n",
        "            x1=a+OneMtau*(b-a);\n",
        "            f_x1=f(x1);\n",
        "            f_x2=f(x2);\n",
        "        else:\n",
        "            a=x1;\n",
        "            x1=np.copy(x2);\n",
        "            x2=a+tau*(b-a);\n",
        "            f_x1=f(x1);\n",
        "            f_x2=f(x2);\n",
        "            \n",
        "    return x1"
      ]
    },
    {
      "cell_type": "code",
      "execution_count": 5,
      "id": "c248816b",
      "metadata": {
        "id": "c248816b",
        "outputId": "ce96cee7-6779-4106-e631-b9a0cbc11018",
        "colab": {
          "base_uri": "https://localhost:8080/",
          "height": 282
        }
      },
      "outputs": [
        {
          "output_type": "display_data",
          "data": {
            "text/plain": [
              "<Figure size 432x288 with 1 Axes>"
            ],
            "image/png": "[encoded data removed]"
          },
          "metadata": {
            "needs_background": "light"
          }
        },
        {
          "output_type": "execute_result",
          "data": {
            "text/plain": [
              "0.7070862967394791"
            ]
          },
          "metadata": {},
          "execution_count": 5
        }
      ],
      "source": [
        "Aurea(-1,1,f)"
      ]
    },
    {
      "cell_type": "code",
      "execution_count": null,
      "id": "52c7a146",
      "metadata": {
        "id": "52c7a146"
      },
      "outputs": [],
      "source": []
    },
    {
      "cell_type": "code",
      "execution_count": null,
      "id": "347607e4",
      "metadata": {
        "id": "347607e4"
      },
      "outputs": [],
      "source": []
    },
    {
      "cell_type": "code",
      "execution_count": null,
      "id": "8c98c94d",
      "metadata": {
        "id": "8c98c94d"
      },
      "outputs": [],
      "source": []
    }
  ],
  "metadata": {
    "kernelspec": {
      "display_name": "Python 3 (ipykernel)",
      "language": "python",
      "name": "python3"
    },
    "language_info": {
      "codemirror_mode": {
        "name": "ipython",
        "version": 3
      },
      "file_extension": ".py",
      "mimetype": "text/x-python",
      "name": "python",
      "nbconvert_exporter": "python",
      "pygments_lexer": "ipython3",
      "version": "3.9.12"
    },
    "colab": {
      "provenance": [],
      "include_colab_link": true
    }
  },
  "nbformat": 4,
  "nbformat_minor": 5
}